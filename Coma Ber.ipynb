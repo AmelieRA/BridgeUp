{
 "cells": [
  {
   "cell_type": "code",
   "execution_count": 2,
   "metadata": {},
   "outputs": [],
   "source": [
    "#import libraries\n",
    "import matplotlib.pyplot as plt\n",
    "import pandas as pd\n",
    "import numpy as np\n",
    "import matplotlib.colors as mpl # We'll use the matplotlib.colors library to color our data points\n",
    "%matplotlib inline "
   ]
  },
  {
   "cell_type": "code",
   "execution_count": 3,
   "metadata": {},
   "outputs": [],
   "source": [
    "df = pd.read_csv(\"oh_table.csv\")\n"
   ]
  },
  {
   "cell_type": "code",
   "execution_count": 4,
   "metadata": {},
   "outputs": [
    {
     "data": {
      "text/html": [
       "<div>\n",
       "<style scoped>\n",
       "    .dataframe tbody tr th:only-of-type {\n",
       "        vertical-align: middle;\n",
       "    }\n",
       "\n",
       "    .dataframe tbody tr th {\n",
       "        vertical-align: top;\n",
       "    }\n",
       "\n",
       "    .dataframe thead th {\n",
       "        text-align: right;\n",
       "    }\n",
       "</style>\n",
       "<table border=\"1\" class=\"dataframe\">\n",
       "  <thead>\n",
       "    <tr style=\"text-align: right;\">\n",
       "      <th></th>\n",
       "      <th>row_id</th>\n",
       "      <th>tgas_source_id</th>\n",
       "      <th>name</th>\n",
       "      <th>ra</th>\n",
       "      <th>dec</th>\n",
       "      <th>parallax</th>\n",
       "      <th>distance</th>\n",
       "      <th>G</th>\n",
       "      <th>J</th>\n",
       "      <th>rave_obs_id</th>\n",
       "      <th>rv</th>\n",
       "      <th>erv</th>\n",
       "      <th>group_id</th>\n",
       "      <th>group_size</th>\n",
       "    </tr>\n",
       "  </thead>\n",
       "  <tbody>\n",
       "    <tr>\n",
       "      <th>0</th>\n",
       "      <td>659</td>\n",
       "      <td>49809491645958528</td>\n",
       "      <td>TYC 1253-388-1</td>\n",
       "      <td>59.457281</td>\n",
       "      <td>18.562195</td>\n",
       "      <td>7.7395</td>\n",
       "      <td>129.949</td>\n",
       "      <td>11.160</td>\n",
       "      <td>9.984</td>\n",
       "      <td>NaN</td>\n",
       "      <td>NaN</td>\n",
       "      <td>NaN</td>\n",
       "      <td>0</td>\n",
       "      <td>151</td>\n",
       "    </tr>\n",
       "    <tr>\n",
       "      <th>1</th>\n",
       "      <td>1559</td>\n",
       "      <td>66939848447027584</td>\n",
       "      <td>TYC 1804-1924-1</td>\n",
       "      <td>57.070387</td>\n",
       "      <td>25.214932</td>\n",
       "      <td>7.6087</td>\n",
       "      <td>132.557</td>\n",
       "      <td>9.066</td>\n",
       "      <td>8.137</td>\n",
       "      <td>20120109_0346p23_140</td>\n",
       "      <td>2.95</td>\n",
       "      <td>1.6</td>\n",
       "      <td>0</td>\n",
       "      <td>151</td>\n",
       "    </tr>\n",
       "    <tr>\n",
       "      <th>2</th>\n",
       "      <td>1904</td>\n",
       "      <td>50905051903831680</td>\n",
       "      <td>HIP 18091</td>\n",
       "      <td>58.003444</td>\n",
       "      <td>19.596690</td>\n",
       "      <td>6.7611</td>\n",
       "      <td>148.752</td>\n",
       "      <td>10.265</td>\n",
       "      <td>9.267</td>\n",
       "      <td>NaN</td>\n",
       "      <td>NaN</td>\n",
       "      <td>NaN</td>\n",
       "      <td>0</td>\n",
       "      <td>151</td>\n",
       "    </tr>\n",
       "    <tr>\n",
       "      <th>3</th>\n",
       "      <td>1929</td>\n",
       "      <td>51452746133437696</td>\n",
       "      <td>HIP 18544</td>\n",
       "      <td>59.507154</td>\n",
       "      <td>20.676596</td>\n",
       "      <td>7.6989</td>\n",
       "      <td>131.839</td>\n",
       "      <td>9.249</td>\n",
       "      <td>8.436</td>\n",
       "      <td>NaN</td>\n",
       "      <td>NaN</td>\n",
       "      <td>NaN</td>\n",
       "      <td>0</td>\n",
       "      <td>151</td>\n",
       "    </tr>\n",
       "    <tr>\n",
       "      <th>4</th>\n",
       "      <td>1944</td>\n",
       "      <td>51619115986889472</td>\n",
       "      <td>TYC 1261-1630-1</td>\n",
       "      <td>58.370320</td>\n",
       "      <td>20.907178</td>\n",
       "      <td>7.4847</td>\n",
       "      <td>134.194</td>\n",
       "      <td>11.553</td>\n",
       "      <td>10.096</td>\n",
       "      <td>NaN</td>\n",
       "      <td>NaN</td>\n",
       "      <td>NaN</td>\n",
       "      <td>0</td>\n",
       "      <td>151</td>\n",
       "    </tr>\n",
       "  </tbody>\n",
       "</table>\n",
       "</div>"
      ],
      "text/plain": [
       "   row_id     tgas_source_id             name         ra        dec  parallax  \\\n",
       "0     659  49809491645958528   TYC 1253-388-1  59.457281  18.562195    7.7395   \n",
       "1    1559  66939848447027584  TYC 1804-1924-1  57.070387  25.214932    7.6087   \n",
       "2    1904  50905051903831680        HIP 18091  58.003444  19.596690    6.7611   \n",
       "3    1929  51452746133437696        HIP 18544  59.507154  20.676596    7.6989   \n",
       "4    1944  51619115986889472  TYC 1261-1630-1  58.370320  20.907178    7.4847   \n",
       "\n",
       "   distance       G       J           rave_obs_id    rv  erv  group_id  \\\n",
       "0   129.949  11.160   9.984                   NaN   NaN  NaN         0   \n",
       "1   132.557   9.066   8.137  20120109_0346p23_140  2.95  1.6         0   \n",
       "2   148.752  10.265   9.267                   NaN   NaN  NaN         0   \n",
       "3   131.839   9.249   8.436                   NaN   NaN  NaN         0   \n",
       "4   134.194  11.553  10.096                   NaN   NaN  NaN         0   \n",
       "\n",
       "   group_size  \n",
       "0         151  \n",
       "1         151  \n",
       "2         151  \n",
       "3         151  \n",
       "4         151  "
      ]
     },
     "execution_count": 4,
     "metadata": {},
     "output_type": "execute_result"
    }
   ],
   "source": [
    "df.head()"
   ]
  },
  {
   "cell_type": "code",
   "execution_count": 5,
   "metadata": {},
   "outputs": [],
   "source": [
    "G = df[\"G\"]\n",
    "J = df[\"J\"]"
   ]
  },
  {
   "cell_type": "code",
   "execution_count": 6,
   "metadata": {},
   "outputs": [],
   "source": [
    "G = df[\"G\"].loc[df[\"group_id\"] == 8]\n",
    "J = df[\"J\"].loc[df[\"group_id\"] == 8]\n",
    "distance = df[\"distance\"].loc[df[\"group_id\"] == 8]"
   ]
  },
  {
   "cell_type": "code",
   "execution_count": 7,
   "metadata": {},
   "outputs": [
    {
     "name": "stdout",
     "output_type": "stream",
     "text": [
      "744    1.772434\n",
      "745    4.406912\n",
      "746    4.585319\n",
      "747    3.278442\n",
      "748    2.624626\n",
      "749    3.197933\n",
      "750    4.603274\n",
      "751    2.052496\n",
      "752    2.168302\n",
      "753    3.214047\n",
      "754    1.672931\n",
      "755    3.462670\n",
      "756    1.247206\n",
      "757    1.533027\n",
      "758    3.432659\n",
      "759    3.627118\n",
      "760    2.291942\n",
      "761    3.146903\n",
      "762    4.093482\n",
      "763    2.614529\n",
      "764    0.602441\n",
      "765    4.477762\n",
      "766    3.704736\n",
      "767    3.702780\n",
      "768    5.160958\n",
      "769    3.072015\n",
      "770    2.104777\n",
      "771    2.438197\n",
      "772    5.651691\n",
      "773    3.184717\n",
      "774    3.318625\n",
      "775    4.619180\n",
      "776    5.894681\n",
      "777    2.976185\n",
      "778    5.214089\n",
      "779    1.953262\n",
      "780    0.087911\n",
      "781    3.904671\n",
      "782    0.698769\n",
      "783    5.211503\n",
      "784    3.682744\n",
      "785    4.151338\n",
      "786    5.613752\n",
      "787    2.665424\n",
      "788    4.003561\n",
      "789    4.805678\n",
      "790    3.053611\n",
      "dtype: float64\n"
     ]
    }
   ],
   "source": [
    "mag = G - 5 * np.log10(distance) + 5\n",
    "print(mag)"
   ]
  },
  {
   "cell_type": "code",
   "execution_count": 8,
   "metadata": {},
   "outputs": [
    {
     "name": "stdout",
     "output_type": "stream",
     "text": [
      "744    0.176\n",
      "745    1.209\n",
      "746    1.326\n",
      "747    0.702\n",
      "748    0.556\n",
      "749    0.713\n",
      "750    1.095\n",
      "751      NaN\n",
      "752    0.219\n",
      "753    0.698\n",
      "754    0.194\n",
      "755    0.756\n",
      "756   -0.077\n",
      "757    0.027\n",
      "758    0.807\n",
      "759    0.763\n",
      "760    0.938\n",
      "761    0.882\n",
      "762    0.998\n",
      "763    0.547\n",
      "764    0.156\n",
      "765    1.359\n",
      "766    1.253\n",
      "767    0.985\n",
      "768    1.528\n",
      "769    0.938\n",
      "770    0.280\n",
      "771    0.396\n",
      "772    2.041\n",
      "773    0.695\n",
      "774    0.792\n",
      "775    0.913\n",
      "776    1.893\n",
      "777    0.609\n",
      "778    1.411\n",
      "779    0.298\n",
      "780   -0.155\n",
      "781    1.142\n",
      "782   -0.021\n",
      "783    1.240\n",
      "784    1.207\n",
      "785    1.438\n",
      "786    1.644\n",
      "787    0.465\n",
      "788    1.002\n",
      "789    1.244\n",
      "790    0.626\n",
      "dtype: float64\n"
     ]
    }
   ],
   "source": [
    "color = G - J\n",
    "print(color)"
   ]
  },
  {
   "cell_type": "code",
   "execution_count": 9,
   "metadata": {},
   "outputs": [],
   "source": [
    "suncolor = 1.48\n",
    "sunmag = 5.12"
   ]
  },
  {
   "cell_type": "code",
   "execution_count": 11,
   "metadata": {},
   "outputs": [
    {
     "data": {
      "image/png": "[encoded data removed]",
      "text/plain": [
       "<Figure size 432x288 with 1 Axes>"
      ]
     },
     "metadata": {},
     "output_type": "display_data"
    }
   ],
   "source": [
    "plt.scatter(color, mag)\n",
    "plt.gca().invert_yaxis()\n",
    "cm = plt.cm.get_cmap(\"RdYlBu_r\")\n",
    "plt.scatter(color, mag, c=mag, s=130, cmap=cm, norm=mpl.LogNorm())\n",
    "plt.scatter(suncolor, sunmag, s=130, marker='*')\n",
    "plt.title(\"Coma Ber\")\n",
    "plt.xlabel(\"color\")\n",
    "plt.ylabel(\"Absolute Magnitude\")\n",
    "plt.show()"
   ]
  },
  {
   "cell_type": "code",
   "execution_count": null,
   "metadata": {},
   "outputs": [],
   "source": []
  },
  {
   "cell_type": "code",
   "execution_count": null,
   "metadata": {},
   "outputs": [],
   "source": []
  }
 ],
 "metadata": {
  "kernelspec": {
   "display_name": "Python 3",
   "language": "python",
   "name": "python3"
  },
  "language_info": {
   "codemirror_mode": {
    "name": "ipython",
    "version": 3
   },
   "file_extension": ".py",
   "mimetype": "text/x-python",
   "name": "python",
   "nbconvert_exporter": "python",
   "pygments_lexer": "ipython3",
   "version": "3.6.5"
  }
 },
 "nbformat": 4,
 "nbformat_minor": 2
}
